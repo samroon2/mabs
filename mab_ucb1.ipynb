{
 "cells": [
  {
   "cell_type": "code",
   "execution_count": 1,
   "metadata": {},
   "outputs": [],
   "source": [
    "import math\n",
    "\n",
    "class UCB1:\n",
    "    \"\"\"Class for running a toy example of MAB UCB1 problem.\n",
    "    \n",
    "    :param money: How much money the gambler has to spend.\n",
    "    :type money: int\n",
    "    :param n_bandits: How many bandits there are to play.\n",
    "    :type n_bandits: int\n",
    "    \"\"\"\n",
    "    def __init__(self, money, n_bandits):\n",
    "        self.money = money\n",
    "        self.n_bandits = n_bandits\n",
    "        self.bandits_played = []\n",
    "        self.bandits_returns = {x:0 for x in range(self.n_bandits)}\n",
    "        self.n_selections = {x:0 for x in range(self.n_bandits)}\n",
    "        self.total_return = 0\n",
    "        self.bounds = {x:[] for x in range(self.n_bandits)}\n",
    "        \n",
    "    def calc_ucb(self, i, t):\n",
    "        if self.n_selections[i] > 0:\n",
    "            Qa = self.bandits_returns[i] / self.n_selections[i]\n",
    "            Ut = math.sqrt(2 * math.log(t + 1) / self.n_selections[i])\n",
    "            ub = Qa + Ut\n",
    "            print('Upper bound: ', ub)\n",
    "            self.bounds[i].append(ub)\n",
    "        else:\n",
    "            ub = 10\n",
    "            self.bounds[i].append(ub)\n",
    "        return {i:ub}\n",
    "        \n",
    "    def play_round(self, t):\n",
    "        res = {k: v for d in [self.calc_ucb(x, t) for x in range(self.n_bandits)] for k, v in d.items()}\n",
    "        bandit = max(res, key=lambda v: res[v])\n",
    "        self.bandits_played.append(bandit)\n",
    "        print('Bandit: ', bandit)\n",
    "        self.n_selections[bandit] += 1\n",
    "        cash_return = int(input())\n",
    "        self.bandits_returns[bandit] += cash_return\n",
    "        self.total_return += cash_return\n",
    "        \n",
    "    def run(self):\n",
    "        [self.play_round(x) for x in range(self.money)]\n",
    "        print(f'Bandit {max(self.bandits_returns, key=lambda v: self.bandits_returns[v])} was the optimal machine.')"
   ]
  },
  {
   "cell_type": "code",
   "execution_count": 2,
   "metadata": {},
   "outputs": [],
   "source": [
    "ucb = UCB1(10, 3)"
   ]
  },
  {
   "cell_type": "code",
   "execution_count": 3,
   "metadata": {
    "scrolled": false
   },
   "outputs": [
    {
     "name": "stdout",
     "output_type": "stream",
     "text": [
      "Bandit:  0\n",
      "1\n",
      "Upper bound:  2.177410022515475\n",
      "Bandit:  1\n",
      "0\n",
      "Upper bound:  2.4823038073675114\n",
      "Upper bound:  1.4823038073675112\n",
      "Bandit:  2\n",
      "0\n",
      "Upper bound:  2.6651092223153956\n",
      "Upper bound:  1.6651092223153954\n",
      "Upper bound:  1.6651092223153954\n",
      "Bandit:  0\n",
      "1\n",
      "Upper bound:  2.26863624117952\n",
      "Upper bound:  1.7941225779941015\n",
      "Upper bound:  1.7941225779941015\n",
      "Bandit:  0\n",
      "1\n",
      "Upper bound:  2.0929347248663586\n",
      "Upper bound:  1.8930184728248454\n",
      "Upper bound:  1.8930184728248454\n",
      "Bandit:  0\n",
      "1\n",
      "Upper bound:  1.9863848511243756\n",
      "Upper bound:  1.9727697022487511\n",
      "Upper bound:  1.9727697022487511\n",
      "Bandit:  0\n",
      "1\n",
      "Upper bound:  1.9120178817720266\n",
      "Upper bound:  2.039333980337618\n",
      "Upper bound:  2.039333980337618\n",
      "Bandit:  1\n",
      "0\n",
      "Upper bound:  1.9374912431241627\n",
      "Upper bound:  1.4823038073675112\n",
      "Upper bound:  2.09629414793641\n",
      "Bandit:  2\n",
      "0\n",
      "Upper bound:  1.9597051824376162\n",
      "Upper bound:  1.5174271293851465\n",
      "Upper bound:  1.5174271293851465\n",
      "Bandit:  0\n",
      "1\n",
      "Bandit 0 was the optimal machine.\n"
     ]
    }
   ],
   "source": [
    "ucb.run()"
   ]
  }
 ],
 "metadata": {
  "kernelspec": {
   "display_name": "Python 3",
   "language": "python",
   "name": "python3"
  },
  "language_info": {
   "codemirror_mode": {
    "name": "ipython",
    "version": 3
   },
   "file_extension": ".py",
   "mimetype": "text/x-python",
   "name": "python",
   "nbconvert_exporter": "python",
   "pygments_lexer": "ipython3",
   "version": "3.6.7"
  }
 },
 "nbformat": 4,
 "nbformat_minor": 2
}
